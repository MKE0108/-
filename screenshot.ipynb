{
 "cells": [
  {
   "cell_type": "code",
   "execution_count": 1,
   "metadata": {},
   "outputs": [],
   "source": [
    "import win32gui\n",
    "import win32con\n",
    "import win32process\n",
    "import win32api\n",
    "def bring_to_front(handle):\n",
    "    win32gui.ShowWindow(handle, win32con.SW_NORMAL)\n",
    "    win32gui.SetForegroundWindow(handle)\n",
    "    alt = 0x12  # Alt 键的虚拟按键代码\n",
    "    win32api.keybd_event(alt, 0, 0, 0)\n",
    "    win32api.keybd_event(alt, 0, win32con.KEYEVENTF_KEYUP, 0)"
   ]
  },
  {
   "cell_type": "code",
   "execution_count": 5,
   "metadata": {},
   "outputs": [
    {
     "data": {
      "text/plain": [
       "True"
      ]
     },
     "execution_count": 5,
     "metadata": {},
     "output_type": "execute_result"
    }
   ],
   "source": [
    "from windows import *\n",
    "import cv2\n",
    "im=capture_window(\"League of Legends\")\n",
    "cv2.imwrite(\"ac.png\",im)\n"
   ]
  }
 ],
 "metadata": {
  "kernelspec": {
   "display_name": "Python 3",
   "language": "python",
   "name": "python3"
  },
  "language_info": {
   "codemirror_mode": {
    "name": "ipython",
    "version": 3
   },
   "file_extension": ".py",
   "mimetype": "text/x-python",
   "name": "python",
   "nbconvert_exporter": "python",
   "pygments_lexer": "ipython3",
   "version": "3.10.7"
  }
 },
 "nbformat": 4,
 "nbformat_minor": 2
}
